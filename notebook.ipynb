{
  "nbformat": 4,
  "nbformat_minor": 0,
  "metadata": {
    "orig_nbformat": 2,
    "deepnote_notebook_id": "3c5095f9-9199-4a5f-8393-00b4e2d35f2c",
    "deepnote_execution_queue": [],
    "colab": {
      "name": "notebook.ipynb",
      "provenance": [],
      "include_colab_link": true
    },
    "kernelspec": {
      "name": "python3",
      "display_name": "Python 3"
    }
  },
  "cells": [
    {
      "cell_type": "markdown",
      "metadata": {
        "id": "view-in-github",
        "colab_type": "text"
      },
      "source": [
        "<a href=\"https://colab.research.google.com/github/hankiou/-Master-2-BI-Decision/blob/main/notebook.ipynb\" target=\"_parent\"><img src=\"https://colab.research.google.com/assets/colab-badge.svg\" alt=\"Open In Colab\"/></a>"
      ]
    },
    {
      "cell_type": "markdown",
      "metadata": {
        "tags": [],
        "cell_id": "00000-379e21bf-d42c-45b6-a68c-cc0ee9738b12",
        "output_cleared": false,
        "id": "AquIOvoHOFQB"
      },
      "source": [
        "# Application BI: Aide à la décision\n",
        "*Sujet choisi: Sujet 5 - Théorie du choix social*  \n",
        "Trois profils de vote sont fournis. Le premier comporte 1000 électeurs et 9 candidats, les deux\n",
        "autres comportent **10 000** électeurs et **12** candidats. Les données (accessibles vu la taille\n",
        "uniquement en .csv) donnent **l’ordre de préférence** de chaque électeur pour les 12 candidats,\n",
        "numérotés de 1 à 12.  \n",
        "L'objectif est de programmer et de comparer les résultats obtenus par différents modes de scrutin possibles (vus en cours ou obtenus par recherche bibliographique).  \n",
        "  \n",
        "Nous effectuons les tests sur profil1, profil2, profil3 fournis en consigne, profil4 est un jeu de données extrait du TD *\"examen 2\"* fait en cours et nous sert de corpus de validation afin de comparer les résultats de nos implémentations avec les résultats obtenus en présentiel.\n"
      ]
    },
    {
      "cell_type": "code",
      "metadata": {
        "tags": [],
        "cell_id": "00001-1d21d13c-70a8-4a37-8399-d964034b737d",
        "output_cleared": false,
        "source_hash": "31f2a7a6",
        "execution_millis": 1,
        "execution_start": 1604492658192,
        "id": "AwzOExDhOFQD"
      },
      "source": [
        "import pandas as pd\n",
        "import numpy as np\n",
        "from collections import Counter\n",
        "CORPUS_SIZE = 4 # How many files are executed"
      ],
      "execution_count": null,
      "outputs": []
    },
    {
      "cell_type": "markdown",
      "metadata": {
        "tags": [],
        "cell_id": "00002-f8d42cc1-8148-4afe-b969-ec51e9e40777",
        "output_cleared": false,
        "id": "mJyc1gKjOFQG"
      },
      "source": [
        "## Methods"
      ]
    },
    {
      "cell_type": "markdown",
      "metadata": {
        "tags": [],
        "cell_id": "00003-48149b81-31b3-4f82-9d2a-39c3bb2f76cd",
        "output_cleared": false,
        "id": "wUA6yFUAOFQG"
      },
      "source": [
        "### Tools"
      ]
    },
    {
      "cell_type": "code",
      "metadata": {
        "tags": [],
        "cell_id": "00003-282cf864-b7db-4e91-a84d-9bf78db4ccf1",
        "output_cleared": false,
        "source_hash": "ac327d5c",
        "execution_millis": 0,
        "execution_start": 1604492658199,
        "id": "2Rapt-2OOFQG"
      },
      "source": [
        "def eliminate(matrix, candidate):\n",
        "    shape = matrix.shape\n",
        "    transpose = np.transpose(matrix)\n",
        "    transpose = transpose[transpose != candidate]\n",
        "    transpose = transpose.reshape(shape[1], shape[0] - 1)\n",
        "    return np.transpose(transpose)\n",
        "\n",
        "def getCandidates(matrix):\n",
        "    return np.unique(matrix)"
      ],
      "execution_count": null,
      "outputs": []
    },
    {
      "cell_type": "markdown",
      "metadata": {
        "tags": [],
        "cell_id": "00005-f720012e-fd67-4c94-b22f-b7bfcf10fa19",
        "output_cleared": false,
        "id": "W2tNolHMOFQJ"
      },
      "source": [
        "### Implementation"
      ]
    },
    {
      "cell_type": "code",
      "metadata": {
        "tags": [],
        "cell_id": "00011-44f050f9-955a-4f3c-bd51-9b3f96702b65",
        "output_cleared": false,
        "source_hash": "3ac549da",
        "execution_millis": 1,
        "execution_start": 1604492658209,
        "id": "eGUPBAECOFQJ"
      },
      "source": [
        "# Selects elected candidate based on first preference\n",
        "def relativeMajority(matrix, returnSize):\n",
        "    return Counter(matrix[0]).most_common(returnSize)[0]\n",
        "\n",
        "# Selects two winners for a first turn using relativeMajority()\n",
        "# Eliminates every other candidate then processes a second turn among remaining candidates\n",
        "def relativeMajorityT2(matrix):\n",
        "    candidates = getCandidates(matrix)\n",
        "    winners = [Counter(matrix[0]).most_common(2)[0][0], Counter(matrix[0]).most_common(2)[1][0]]\n",
        "    eliminated = set(candidates) - set(winners)\n",
        "    new_matrix = np.copy(matrix)\n",
        "    for loser in eliminated:\n",
        "        new_matrix[(new_matrix == loser)] = -1\n",
        "        new_matrix = eliminate(new_matrix, -1)\n",
        "    return Counter(new_matrix[0]).most_common(1)[0]\n",
        "    \n",
        "# Selects elected candidate based on borda method\n",
        "# Score is calculated by adding (n - preference_order) for each voter\n",
        "def borda(matrix):\n",
        "    n = matrix.shape[0]\n",
        "    scores = np.zeros(n).astype(np.int)\n",
        "    voters = matrix.shape[1]\n",
        "    for i in range (0, voters-1):\n",
        "        for j in range (0, n-1):\n",
        "            scores[matrix[j][i] -1] += (n - j)\n",
        "    return scores.argmax()+1, scores.max()\n",
        "\n",
        "def condorcet():\n",
        "    #TODO\n",
        "    return 0\n",
        "\n",
        "def kemenyYoung():\n",
        "    #TODO\n",
        "    return 0\n",
        "\n",
        "def coombs(matrix):\n",
        "    n = matrix.shape[0] -1\n",
        "    new_matrix = np.copy(matrix)\n",
        "    for i in range (0, n-1):\n",
        "        unpopular =  Counter(new_matrix[new_matrix.shape[0] - 1]).most_common(1)[0][0]\n",
        "        new_matrix = eliminate(new_matrix, unpopular)\n",
        "    return Counter(new_matrix[0]).most_common(1)[0]\n",
        "\n",
        "def alternative():\n",
        "    #TODO\n",
        "    return 0"
      ],
      "execution_count": null,
      "outputs": []
    },
    {
      "cell_type": "markdown",
      "metadata": {
        "tags": [],
        "cell_id": "00003-85fddc19-c303-4227-ae82-925958539144",
        "output_cleared": false,
        "id": "1w3znwT-OFQL"
      },
      "source": [
        "## Data"
      ]
    },
    {
      "cell_type": "code",
      "metadata": {
        "tags": [],
        "cell_id": "00003-ffb20bd2-a072-4dae-acac-68a629d90541",
        "output_cleared": false,
        "source_hash": "1f58b70d",
        "execution_millis": 1136,
        "execution_start": 1604492658224,
        "id": "u1xInSrDOFQL",
        "outputId": "8384932c-27c0-49aa-e83f-c763d6d677f6"
      },
      "source": [
        "# Load Data\n",
        "# data/choix_social/\n",
        "\n",
        "matrices = [None] * CORPUS_SIZE # Stores matrix conversions of each file\n",
        "for i in range (0, CORPUS_SIZE):\n",
        "    filename = 'data/choix_social/profil'+ str(i+1) + '.csv'\n",
        "    data = pd.read_csv(filename, header=None)\n",
        "    matrices[i] = data.to_numpy()\n",
        "    print(matrices[i].shape)"
      ],
      "execution_count": null,
      "outputs": [
        {
          "output_type": "stream",
          "text": [
            "(9, 1000)\n",
            "(12, 10000)\n",
            "(12, 10000)\n",
            "(4, 100)\n"
          ],
          "name": "stdout"
        }
      ]
    },
    {
      "cell_type": "markdown",
      "metadata": {
        "tags": [],
        "cell_id": "00006-87a4adde-0955-486c-8335-dafee1173d3b",
        "output_cleared": false,
        "id": "vzedKmABOFQO"
      },
      "source": [
        "*TODO: Commentaire sur la data*"
      ]
    },
    {
      "cell_type": "code",
      "metadata": {
        "tags": [],
        "cell_id": "00010-c4f2cc0f-36d9-4363-a52b-51e7ea5a8487",
        "output_cleared": false,
        "source_hash": "5a5a22c9",
        "execution_millis": 2,
        "execution_start": 1604492659363,
        "id": "Igl_GA_EOFQO"
      },
      "source": [
        "# DEV SANDBOX\n"
      ],
      "execution_count": null,
      "outputs": []
    },
    {
      "cell_type": "markdown",
      "metadata": {
        "tags": [],
        "cell_id": "00003-9f1dbefa-2932-49ba-addd-1b0e1785de88",
        "output_cleared": false,
        "id": "824f8U-WOFQQ"
      },
      "source": [
        "## Execution"
      ]
    },
    {
      "cell_type": "code",
      "metadata": {
        "tags": [],
        "cell_id": "00003-ff0b3583-3ddd-4056-bc85-e00fc7a3fda9",
        "output_cleared": false,
        "source_hash": "9e024c72",
        "execution_millis": 331,
        "execution_start": 1604492659375,
        "id": "FyE1XqY7OFQQ",
        "outputId": "932fa8d5-0139-4a6f-db3d-c746346ee498"
      },
      "source": [
        "#Relative Majority 1 turn\n",
        "print(\"Relative Majority 1 turn:\")\n",
        "for i in range (0, CORPUS_SIZE):\n",
        "    result = relativeMajority(matrices[i], 1)\n",
        "    print(\"Profil\" + str(i+1) + \": Candidat \" + str(result[0]) + \": \" + str(result[1]) + \" voix (\" +  \"{:.2f}\".format(result[1]/matrices[i][0].size*100) + \" %)\")\n",
        "\n",
        "#Relative Majority 2 turns\n",
        "print(\"\\nRelative Majority 2 turns:\")\n",
        "for i in range (0, CORPUS_SIZE):\n",
        "    result = relativeMajorityT2(matrices[i])\n",
        "    print(\"Profil\" + str(i+1) + \": Candidat \" + str(result[0]) + \": \" + str(result[1]) + \" voix (\" +  \"{:.2f}\".format(result[1]/matrices[i][0].size*100) + \" %)\")\n",
        "\n",
        "\n",
        "# Borda\n",
        "print(\"\\nBorda :\")\n",
        "for i in range (0, CORPUS_SIZE):\n",
        "    result = borda(matrices[i])\n",
        "    print(\"Profil\" + str(i+1) + \": Candidat \" + str(result[0]) + \": \" + str(result[1]) + \"pts\")\n",
        "\n",
        "# Coombs\n",
        "print(\"\\nCoombs :\")\n",
        "for i in range (0, CORPUS_SIZE):\n",
        "    result = coombs(matrices[i])\n",
        "    print(\"Profil\" + str(i+1) + \": Candidat \" + str(result[0]) + \": \" + str(result[1]) + \" voix reportées (\" +  \"{:.2f}\".format(result[1]/matrices[i][0].size*100) + \" %)\")\n",
        "\n",
        "\n"
      ],
      "execution_count": null,
      "outputs": [
        {
          "output_type": "stream",
          "text": [
            "Relative Majority 1 turn:\n",
            "Profil1: Candidat 4: 293 voix (29.30 %)\n",
            "Profil2: Candidat 10: 1828 voix (18.28 %)\n",
            "Profil3: Candidat 7: 1498 voix (14.98 %)\n",
            "Profil4: Candidat 1: 35 voix (35.00 %)\n",
            "\n",
            "Relative Majority 2 turns:\n",
            "Profil1: Candidat 4: 564 voix (56.40 %)\n",
            "Profil2: Candidat 5: 6366 voix (63.66 %)\n",
            "Profil3: Candidat 7: 5078 voix (50.78 %)\n",
            "Profil4: Candidat 4: 65 voix (65.00 %)\n",
            "\n",
            "Borda :\n",
            "Profil1: Candidat 5: 6451pts\n",
            "Profil2: Candidat 7: 95904pts\n",
            "Profil3: Candidat 6: 80155pts\n",
            "Profil4: Candidat 3: 306pts\n",
            "\n",
            "Coombs :\n",
            "Profil1: Candidat 5: 524 voix reportées (52.40 %)\n",
            "Profil2: Candidat 7: 5398 voix reportées (53.98 %)\n",
            "Profil3: Candidat 11: 5712 voix reportées (57.12 %)\n",
            "Profil4: Candidat 3: 75 voix reportées (75.00 %)\n"
          ],
          "name": "stdout"
        }
      ]
    },
    {
      "cell_type": "markdown",
      "metadata": {
        "tags": [],
        "cell_id": "00009-c775d075-7014-4c0d-897f-ed90af15c391",
        "output_cleared": false,
        "id": "OxiJbfiCOFQS"
      },
      "source": [
        "## Interprétation des Résultats\n",
        "### Profil 1\n",
        "|Majorité Relative (1 tour)|Majorité Relative (2 tours)|Condorcet|Borda|Coombs|Kemeny-Young|Alternative|\n",
        "|:-|:-|:-|:-|:-|:-|:-|\n",
        "|**4** (293 - *29.30%*)|**4** (564 - *56.40%*)|-|**5** (6,451 pts)|**5** (524 - *52.40%*)|-|-|\n",
        "### Profil 2\n",
        "|Majorité Relative (1 tour)|Majorité Relative (2 tours)|Condorcet|Borda|Coombs|Kemeny-Young|Alternative|\n",
        "|:-|:-|:-|:-|:-|:-|:-|\n",
        "|**10** (1828 - *18.28%*)|**5** (6366 - *63.66%*)|-|**7** (95,904 pts)|**7** (5398 - *53.98%*)|-|-|\n",
        "### Profil 3\n",
        "|Majorité Relative (1 tour)|Majorité Relative (2 tours)|Condorcet|Borda|Coombs|Kemeny-Young|Alternative|\n",
        "|:-|:-|:-|:-|:-|:-|:-|\n",
        "|**7** (1498 - *14.97%*)|**7** (5078 - *50.78%*)|-|**6** (80,155 pts)|**5** (5712 - *57.12%*)|-|-|"
      ]
    }
  ]
}