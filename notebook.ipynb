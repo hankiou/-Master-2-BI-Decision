{
  "nbformat": 4,
  "nbformat_minor": 0,
  "metadata": {
    "orig_nbformat": 2,
    "deepnote_notebook_id": "3c5095f9-9199-4a5f-8393-00b4e2d35f2c",
    "deepnote_execution_queue": [
      {
        "cellId": "00003-ff0b3583-3ddd-4056-bc85-e00fc7a3fda9",
        "sessionId": "05bdc194-5839-405e-ae4d-111eb9f90f41",
        "msgId": "5cf7e738-4974-4126-abe6-75c5e8c9647f"
      }
    ],
    "colab": {
      "name": "notebook.ipynb",
      "provenance": [],
      "include_colab_link": true
    }
  },
  "cells": [
    {
      "cell_type": "markdown",
      "metadata": {
        "id": "view-in-github",
        "colab_type": "text"
      },
      "source": [
        "<a href=\"https://colab.research.google.com/github/hankiou/-Master-2-BI-Decision/blob/main/notebook.ipynb\" target=\"_parent\"><img src=\"https://colab.research.google.com/assets/colab-badge.svg\" alt=\"Open In Colab\"/></a>"
      ]
    },
    {
      "cell_type": "markdown",
      "metadata": {
        "tags": [],
        "cell_id": "00000-379e21bf-d42c-45b6-a68c-cc0ee9738b12",
        "output_cleared": false,
        "id": "FYRWICdWJSX6"
      },
      "source": [
        "# Application BI: Aide à la décision\n",
        "Enzo GUENY  \n",
        "Adam SERGHINI  \n",
        "\n",
        "*Sujet choisi: **Sujet 5** - Théorie du choix social*  \n",
        "Trois profils de vote sont fournis. Le premier comporte 1000 électeurs et 9 candidats, les deux\n",
        "autres comportent **10 000** électeurs et **12** candidats. Les données (accessibles vu la taille\n",
        "uniquement en .csv) donnent **l’ordre de préférence** de chaque électeur pour les 12 candidats,\n",
        "numérotés de 1 à 12.  \n",
        "L'objectif est de programmer et de comparer les résultats obtenus par différents modes de scrutin possibles (vus en cours ou obtenus par recherche bibliographique).  \n",
        "  \n",
        "Nous effectuons les tests sur profil1, profil2, profil3 fournis en consigne, profil4 est un jeu de données extrait du TD *\"examen 2\"* fait en cours et nous sert de corpus de validation afin de comparer les résultats de nos implémentations avec les résultats obtenus en présentiel.\n"
      ]
    },
    {
      "cell_type": "code",
      "metadata": {
        "tags": [],
        "cell_id": "00001-1d21d13c-70a8-4a37-8399-d964034b737d",
        "output_cleared": false,
        "source_hash": "7b4d35a",
        "execution_millis": 1,
        "execution_start": 1604508144492,
        "id": "NqEcw4x7JSX7"
      },
      "source": [
        "import pandas as pd\n",
        "import numpy as np\n",
        "from collections import Counter\n",
        "from itertools import permutations\n",
        " \n",
        "CORPUS_SIZE = 4 # How many files are executed"
      ],
      "execution_count": null,
      "outputs": []
    },
    {
      "cell_type": "markdown",
      "metadata": {
        "tags": [],
        "cell_id": "00002-f8d42cc1-8148-4afe-b969-ec51e9e40777",
        "output_cleared": false,
        "id": "1o2jaxfnJSX-"
      },
      "source": [
        "## Methods"
      ]
    },
    {
      "cell_type": "markdown",
      "metadata": {
        "tags": [],
        "cell_id": "00003-48149b81-31b3-4f82-9d2a-39c3bb2f76cd",
        "output_cleared": false,
        "id": "NRuwprPWJSX-"
      },
      "source": [
        "### Tools\n",
        "Méthodes utiles à l'implémentation des algorithmes de choix social"
      ]
    },
    {
      "cell_type": "code",
      "metadata": {
        "tags": [],
        "cell_id": "00003-282cf864-b7db-4e91-a84d-9bf78db4ccf1",
        "output_cleared": false,
        "source_hash": "66dc7317",
        "execution_millis": 2,
        "execution_start": 1604508144500,
        "id": "JKeNVJqtJSX_"
      },
      "source": [
        "def eliminate(matrix, candidate):\n",
        "    shape = matrix.shape\n",
        "    transpose = np.transpose(matrix)\n",
        "    transpose = transpose[transpose != candidate]\n",
        "    transpose = transpose.reshape(shape[1], shape[0] - 1)\n",
        "    return np.transpose(transpose)\n",
        "\n",
        "def getCandidates(matrix):\n",
        "    return np.unique(matrix)\n",
        "\n",
        "def executeDuels(matrix):\n",
        "    candidates = getCandidates(matrix)\n",
        "    shape = matrix.shape\n",
        "    results = np.zeros((candidates.size, candidates.size), int)\n",
        "    for candidate in candidates:\n",
        "        for adversary in candidates:\n",
        "            if(adversary != candidate):\n",
        "                win = 0\n",
        "                for i in range(0, shape[1]):\n",
        "                    for j in range(0, shape[0]):\n",
        "                        if(matrix[j][i] == adversary):\n",
        "                            break\n",
        "                        if(matrix[j][i] == candidate):\n",
        "                            win = win +1\n",
        "                            break\n",
        "\n",
        "                results[candidate-1][adversary-1] = win\n",
        "    return results"
      ],
      "execution_count": null,
      "outputs": []
    },
    {
      "cell_type": "markdown",
      "metadata": {
        "tags": [],
        "cell_id": "00005-f720012e-fd67-4c94-b22f-b7bfcf10fa19",
        "output_cleared": false,
        "id": "alVnA2E1JSYB"
      },
      "source": [
        "### Implementation\n",
        "Implémentation des algorithmes de choix social vus en cours. Le principe de chaque méthode est décrit en commentaire dans le code source."
      ]
    },
    {
      "cell_type": "code",
      "metadata": {
        "tags": [],
        "cell_id": "00011-44f050f9-955a-4f3c-bd51-9b3f96702b65",
        "output_cleared": false,
        "source_hash": "23678d4e",
        "execution_millis": 0,
        "execution_start": 1604508144560,
        "id": "UY5Cud1nJSYB"
      },
      "source": [
        "# Selects elected candidate based on first preference\n",
        "def relativeMajority(matrix, returnSize):\n",
        "    return Counter(matrix[0]).most_common(returnSize)[0]\n",
        "\n",
        "# Selects two winners for a first turn using relativeMajority()\n",
        "# Eliminates every other candidate then processes a second turn among remaining candidates\n",
        "def relativeMajorityT2(matrix):\n",
        "    candidates = getCandidates(matrix)\n",
        "    winners = [Counter(matrix[0]).most_common(2)[0][0], Counter(matrix[0]).most_common(2)[1][0]]\n",
        "    eliminated = set(candidates) - set(winners)\n",
        "    new_matrix = np.copy(matrix)\n",
        "    for loser in eliminated:\n",
        "        new_matrix[(new_matrix == loser)] = -1\n",
        "        new_matrix = eliminate(new_matrix, -1)\n",
        "    return Counter(new_matrix[0]).most_common(1)[0]\n",
        "    \n",
        "# Selects elected candidate based on borda method\n",
        "# Score is calculated by adding (n - preference_order) for each voter\n",
        "def borda(matrix):\n",
        "    n = matrix.shape[0]\n",
        "    scores = np.zeros(n).astype(np.int)\n",
        "    voters = matrix.shape[1]\n",
        "    for i in range (0, voters-1):\n",
        "        for j in range (0, n-1):\n",
        "            scores[matrix[j][i] -1] += (n - j)\n",
        "    return scores.argmax()+1, scores.max()\n",
        "\n",
        "# Returns the candidate winning the most duels against others\n",
        "def condorcet(matrix):\n",
        "    candidates = getCandidates(matrix)\n",
        "    results = executeDuels(matrix)\n",
        "    n = matrix.shape[1]\n",
        "    winners = []\n",
        "    w_duels = 0\n",
        "    for candidate in candidates:\n",
        "        duels = Counter(x >= n/2 for x in results[candidate-1])\n",
        "        if(duels[True] > w_duels):\n",
        "            winners = []\n",
        "            w_duels = duels[True]\n",
        "        if(w_duels == duels[True]):\n",
        "            winners = np.append(winners, candidate)\n",
        "\n",
        "    return winners, w_duels\n",
        "    return 0\n",
        "\n",
        "def kemenyYoung(matrix):\n",
        "    candidates = getCandidates(matrix)\n",
        "    best_score = 0\n",
        "    best_ranking = None\n",
        "    ketcha = executeDuels(matrix)\n",
        "    for candidates_ranking in permutations(candidates):\n",
        "        score = 0\n",
        "        for candidate in range (0, candidates.size):\n",
        "            for adversary in range (candidate, candidates.size): \n",
        "                score += ketcha[candidates_ranking[candidate]-1][candidates_ranking[adversary]-1]\n",
        "        if score > best_score:\n",
        "            best_score, best_ranking = score, candidates_ranking\n",
        "    return (best_score, best_ranking)\n",
        "\n",
        "\n",
        "# Eliminates the candidate being the least preffered each iteration\n",
        "# until 2 remains, returns the most popular\n",
        "def coombs(matrix):\n",
        "    n = matrix.shape[0] -1\n",
        "    new_matrix = np.copy(matrix)\n",
        "    for i in range (0, n-1):\n",
        "        unpopular =  Counter(new_matrix[new_matrix.shape[0] - 1]).most_common(1)[0][0]\n",
        "        new_matrix = eliminate(new_matrix, unpopular)\n",
        "    return Counter(new_matrix[0]).most_common(1)[0]\n",
        "\n",
        "# Eliminates the candidate being the least top-voted each iteration\n",
        "# until 2 remains, returns the most popular\n",
        "def alternative(matrix):\n",
        "    n = matrix.shape[0] -1\n",
        "    new_matrix = np.copy(matrix)\n",
        "    for i in range (0, n-1):\n",
        "        unpopular =  Counter(new_matrix[0]).most_common(new_matrix.shape[0])[new_matrix.shape[0]-1][0]\n",
        "        new_matrix = eliminate(new_matrix, unpopular)\n",
        "    return Counter(new_matrix[0]).most_common(1)[0]\n",
        "\n",
        "# Returns the candidate with the best score won on duelsagainst others minus lost duels\n",
        "def copeland(matrix):\n",
        "    candidates = getCandidates(matrix)\n",
        "    results = executeDuels(matrix)\n",
        "    n = matrix.shape[1]\n",
        "\n",
        "    winners = []\n",
        "    w_duels = 0\n",
        "    for candidate in candidates:\n",
        "        duels = Counter(x >= n/2 for x in results[candidate-1]) - Counter(x < n/2 for x in results[candidate-1])\n",
        "        if(duels[True] > w_duels):\n",
        "            winners = []\n",
        "            w_duels = duels[True]\n",
        "        if(w_duels == duels[True]):\n",
        "            winners = np.append(winners, candidate)\n",
        "\n",
        "    return winners, w_duels\n",
        "    return 0\n"
      ],
      "execution_count": null,
      "outputs": []
    },
    {
      "cell_type": "markdown",
      "metadata": {
        "tags": [],
        "cell_id": "00003-85fddc19-c303-4227-ae82-925958539144",
        "output_cleared": false,
        "id": "_ihdvQy1JSYD"
      },
      "source": [
        "## Data"
      ]
    },
    {
      "cell_type": "code",
      "metadata": {
        "tags": [],
        "cell_id": "00003-ffb20bd2-a072-4dae-acac-68a629d90541",
        "output_cleared": false,
        "source_hash": "3de9a1bd",
        "execution_millis": 1141,
        "execution_start": 1604508144561,
        "id": "54NUSIGjJSYD",
        "outputId": "f374cf8a-f684-46e0-e126-a9ab9eb1d3dd"
      },
      "source": [
        "# Load Data\n",
        "# data/choix_social/\n",
        "\n",
        "matrices = [None] * CORPUS_SIZE # Stores matrix conversions of each file\n",
        "for i in range (0, CORPUS_SIZE):\n",
        "    filename = 'data/choix_social/profil'+ str(i+1) + '.csv'\n",
        "    data = pd.read_csv(filename, header=None)\n",
        "    matrices[i] = data.to_numpy()\n",
        "    print(\"Profil\" + str(i+1) + \": \" + str(matrices[i].shape))"
      ],
      "execution_count": null,
      "outputs": [
        {
          "output_type": "stream",
          "text": [
            "Profil1: (9, 1000)\n",
            "Profil2: (12, 10000)\n",
            "Profil3: (12, 10000)\n",
            "Profil4: (4, 100)\n"
          ],
          "name": "stdout"
        }
      ]
    },
    {
      "cell_type": "markdown",
      "metadata": {
        "tags": [],
        "cell_id": "00006-87a4adde-0955-486c-8335-dafee1173d3b",
        "output_cleared": false,
        "id": "t113xD8LJSYG"
      },
      "source": [
        "*TODO: Commentaire sur la data*  \n",
        "\n",
        "||Profil1|Profil2|Profil3|Profil4|\n",
        "|:-|:-:|:-:|:-:|:-:|\n",
        "|Nombre de candidats|9|12|12|4|\n",
        "|Nombre de votants|1,000|10,000|10,000|100|"
      ]
    },
    {
      "cell_type": "code",
      "metadata": {
        "tags": [],
        "cell_id": "00010-c4f2cc0f-36d9-4363-a52b-51e7ea5a8487",
        "output_cleared": false,
        "source_hash": "5a5a22c9",
        "execution_millis": 0,
        "execution_start": 1604508145703,
        "id": "qMPsX2XCJSYG"
      },
      "source": [
        "# DEV SANDBOX\n"
      ],
      "execution_count": null,
      "outputs": []
    },
    {
      "cell_type": "markdown",
      "metadata": {
        "tags": [],
        "cell_id": "00003-9f1dbefa-2932-49ba-addd-1b0e1785de88",
        "output_cleared": false,
        "id": "K9d2Bf2yJSYI"
      },
      "source": [
        "## Execution"
      ]
    },
    {
      "cell_type": "code",
      "metadata": {
        "tags": [],
        "cell_id": "00003-ff0b3583-3ddd-4056-bc85-e00fc7a3fda9",
        "output_cleared": false,
        "source_hash": "50ec489e",
        "execution_millis": 5251654,
        "execution_start": 1604508145744,
        "id": "nztL3p9aJSYI",
        "outputId": "b3df9761-85ee-48f1-8be1-6850ef2f8a44"
      },
      "source": [
        "#Relative Majority 1 turn\n",
        "print(\"Relative Majority 1 turn:\")\n",
        "for i in range (0, CORPUS_SIZE):\n",
        "    result = relativeMajority(matrices[i], 1)\n",
        "    print(\"Profil\" + str(i+1) + \": Candidat \" + str(result[0]) + \": \" + str(result[1]) + \" voix (\" +  \"{:.2f}\".format(result[1]/matrices[i][0].size*100) + \" %)\")\n",
        "\n",
        "#Relative Majority 2 turns\n",
        "print(\"\\nRelative Majority 2 turns:\")\n",
        "for i in range (0, CORPUS_SIZE):\n",
        "    result = relativeMajorityT2(matrices[i])\n",
        "    print(\"Profil\" + str(i+1) + \": Candidat \" + str(result[0]) + \": \" + str(result[1]) + \" voix (\" +  \"{:.2f}\".format(result[1]/matrices[i][0].size*100) + \" %)\")\n",
        "\n",
        "# Condorcet\n",
        "print(\"\\nCondorcet :\")\n",
        "for i in range (0, CORPUS_SIZE):\n",
        "    result = condorcet(matrices[i])\n",
        "    print(\"Profil\" + str(i+1) + \": Candidats \" + str(result[0]) + \": \" + str(result[1]) + \" duels gagnés\")\n",
        "\n",
        "\n",
        "# Borda\n",
        "print(\"\\nBorda :\")\n",
        "for i in range (0, CORPUS_SIZE):\n",
        "    result = borda(matrices[i])\n",
        "    print(\"Profil\" + str(i+1) + \": Candidat \" + str(result[0]) + \": \" + str(result[1]) + \"pts\")\n",
        "\n",
        "# Coombs\n",
        "print(\"\\nCoombs :\")\n",
        "for i in range (0, CORPUS_SIZE):\n",
        "    result = coombs(matrices[i])\n",
        "    print(\"Profil\" + str(i+1) + \": Candidat \" + str(result[0]) + \": \" + str(result[1]) + \" voix reportées (\" +  \"{:.2f}\".format(result[1]/matrices[i][0].size*100) + \" %)\")\n",
        "\n",
        "# Alternative\n",
        "print(\"\\nAlternative :\")\n",
        "for i in range (0, CORPUS_SIZE):\n",
        "    result = alternative(matrices[i])\n",
        "    print(\"Profil\" + str(i+1) + \": Candidat \" + str(result[0]) + \": \" + str(result[1]) + \" voix reportées (\" +  \"{:.2f}\".format(result[1]/matrices[i][0].size*100) + \" %)\")\n",
        "\n",
        "# Copeland\n",
        "print(\"\\nCopeland :\")\n",
        "for i in range (0, CORPUS_SIZE):\n",
        "    result = copeland(matrices[i])\n",
        "    print(\"Profil\" + str(i+1) + \": Candidats \" + str(result[0]) + \": \" + str(result[1]) + \" duels gagnés (- duels perdus)\")\n",
        "\n",
        "# KemenyYoung\n",
        "print(\"\\nKemeny Young :\")\n",
        "for i in range(0, CORPUS_SIZE):\n",
        "    result = kemenyYoung(matrices[i])\n",
        "    print(\"Profil\"+ str(i+1) + \": Classement\" + str(result[1]) + \": \" + str(result[0]) + \"pts\")\n",
        "\n",
        "\n"
      ],
      "execution_count": null,
      "outputs": [
        {
          "output_type": "stream",
          "text": [
            "Relative Majority 1 turn:\n",
            "Profil1: Candidat 4: 293 voix (29.30 %)\n",
            "Profil2: Candidat 10: 1828 voix (18.28 %)\n",
            "Profil3: Candidat 7: 1498 voix (14.98 %)\n",
            "Profil4: Candidat 1: 35 voix (35.00 %)\n",
            "\n",
            "Relative Majority 2 turns:\n",
            "Profil1: Candidat 4: 564 voix (56.40 %)\n",
            "Profil2: Candidat 5: 6366 voix (63.66 %)\n",
            "Profil3: Candidat 7: 5078 voix (50.78 %)\n",
            "Profil4: Candidat 4: 65 voix (65.00 %)\n",
            "\n",
            "Condorcet :\n",
            "Profil1: Candidats [5.]: 8 duels gagnés\n",
            "Profil2: Candidats [7.]: 11 duels gagnés\n",
            "Profil3: Candidats [ 7.  8. 11.]: 10 duels gagnés\n",
            "Profil4: Candidats [3.]: 3 duels gagnés\n",
            "\n",
            "Borda :\n",
            "Profil1: Candidat 5: 6451pts\n",
            "Profil2: Candidat 7: 95904pts\n",
            "Profil3: Candidat 6: 80155pts\n",
            "Profil4: Candidat 3: 306pts\n",
            "\n",
            "Coombs :\n",
            "Profil1: Candidat 5: 524 voix reportées (52.40 %)\n",
            "Profil2: Candidat 7: 5398 voix reportées (53.98 %)\n",
            "Profil3: Candidat 11: 5712 voix reportées (57.12 %)\n",
            "Profil4: Candidat 3: 75 voix reportées (75.00 %)\n",
            "\n",
            "Alternative :\n",
            "Profil1: Candidat 4: 564 voix reportées (56.40 %)\n",
            "Profil2: Candidat 7: 5398 voix reportées (53.98 %)\n",
            "Profil3: Candidat 6: 5010 voix reportées (50.10 %)\n",
            "Profil4: Candidat 2: 65 voix reportées (65.00 %)\n",
            "\n",
            "Copeland :\n",
            "Profil1: Candidats [5.]: 7 duels gagnés (- duels perdus)\n",
            "Profil2: Candidats [7.]: 10 duels gagnés (- duels perdus)\n",
            "Profil3: Candidats [ 7.  8. 11.]: 8 duels gagnés (- duels perdus)\n",
            "Profil4: Candidats [3.]: 2 duels gagnés (- duels perdus)\n",
            "\n",
            "Kemeny Young :\n",
            "Profil1: Classement(5, 4, 7, 8, 6, 3, 9, 2, 1): 24597pts\n"
          ],
          "name": "stdout"
        }
      ]
    },
    {
      "cell_type": "markdown",
      "metadata": {
        "tags": [],
        "cell_id": "00009-c775d075-7014-4c0d-897f-ed90af15c391",
        "output_cleared": false,
        "id": "SZ7vfzhpJSYK"
      },
      "source": [
        "## Interprétation des Résultats\n",
        "### Profil 1\n",
        "|Majorité Relative (1 tour)|Majorité Relative (2 tours)|Condorcet|Borda|Coombs|Kemeny-Young|Alternative| Copeland\n",
        "|:-|:-|:-|:-|:-|:-|:-|:-|\n",
        "|**4** (293 - *29.30%*)|**4** (564 - *56.40%*)|**5** (8)|**5** (6,451 pts)|**5** (524 - *52.40%*)|{5, 4, 7, 8, 6, 3, 9, 2, 1} (24597 pts)  |**4** (564 - *56.40%*)|**5** (7)|\n",
        "### Profil 2\n",
        "|Majorité Relative (1 tour)|Majorité Relative (2 tours)|Condorcet|Borda|Coombs|Kemeny-Young|Alternative|\n",
        "|:-|:-|:-|:-|:-|:-|:-|\n",
        "|**10** (1828 - *18.28%*)|**5** (6366 - *63.66%*)|**7** (11)|**7** (95,904 pts)|**7** (5398 - *53.98%*)|-|**7** (5398 - *53.98%*)|**7** (10)|\n",
        "### Profil 3\n",
        "|Majorité Relative (1 tour)|Majorité Relative (2 tours)|Condorcet|Borda|Coombs|Kemeny-Young|Alternative|\n",
        "|:-|:-|:-|:-|:-|:-|:-|\n",
        "|**7** (1498 - *14.97%*)|**7** (5078 - *50.78%*)|**7 8 11** (10)|**6** (80,155 pts)|**5** (5712 - *57.12%*)|-|**6** (5010 - *50.10%*)|**7 8 11** (8)|"
      ]
    },
    {
      "cell_type": "markdown",
      "metadata": {
        "tags": [],
        "cell_id": "00014-3213742b-11ad-4688-9ada-17490f48a678",
        "id": "n7Ry7GuDJSYL"
      },
      "source": [
        ""
      ]
    }
  ]
}